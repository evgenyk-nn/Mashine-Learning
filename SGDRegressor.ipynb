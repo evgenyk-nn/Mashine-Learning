{
  "nbformat": 4,
  "nbformat_minor": 0,
  "metadata": {
    "colab": {
      "provenance": []
    },
    "kernelspec": {
      "name": "python3",
      "display_name": "Python 3"
    },
    "language_info": {
      "name": "python"
    }
  },
  "cells": [
    {
      "cell_type": "markdown",
      "source": [
        "**Реализация обучение модели SGDRegressor с применением стандартизации признаков и вычисление среднеквадратичной ошибки для оценки качества модели на тестовой выборке**."
      ],
      "metadata": {
        "id": "6fBaYHqSOiqX"
      }
    },
    {
      "cell_type": "code",
      "execution_count": null,
      "metadata": {
        "colab": {
          "base_uri": "https://localhost:8080/"
        },
        "id": "doWzmaEhao1p",
        "outputId": "03b0b422-39e1-412f-f522-a436379ff404"
      },
      "outputs": [
        {
          "output_type": "stream",
          "name": "stdout",
          "text": [
            "Mounted at /content/gdrive/\n"
          ]
        }
      ],
      "source": [
        "from google.colab import drive\n",
        "drive.mount('/content/gdrive/')\n"
      ]
    },
    {
      "cell_type": "code",
      "source": [
        "import numpy as np                                        # Импортирует библиотеку NumPy, которая используется для работы с многомерными массивами и матрицами\n",
        "import pandas as pd                                       # Импортирует библиотеку Pandas, которая используется для работы с таблицами и временными рядами\n",
        "import scipy.io as io                                     # Импортирует библиотеку SciPy, которая содержит модуль io, используемый для чтения и записи файлов в различных форматах\n",
        "from sklearn import metrics                               # Импортирует модуль metrics из библиотеки Scikit-learn, который содержит различные функции для вычисления метрик качества моделей\n",
        "from sklearn.preprocessing import StandardScaler          # Импортирует класс StandardScaler из модуля preprocessing библиотеки Scikit-learn, который используется для стандартизации данных\n",
        "from sklearn.model_selection import train_test_split      # Импортирует функцию train_test_split из модуля model_selection библиотеки Scikit-learn, которая используется для разделения данных на обучающую и тестовую выборки\n",
        "from sklearn.linear_model import Lasso, Ridge, SGDRegressor     # Импортирует классы моделей Lasso, Ridge и SGDRegressor из модуля linear_model библиотеки Scikit-learn"
      ],
      "metadata": {
        "id": "ZITHFgSia4ti"
      },
      "execution_count": null,
      "outputs": []
    },
    {
      "cell_type": "code",
      "source": [
        "dataX = pd.read_csv(\"/content/gdrive/MyDrive/Colab Notebooks/ML/data1.txt\", header=None, usecols=[0], sep=',')     # Загружает данные из файла data1.txt в датафрейм dataX\n",
        "dataY = pd.read_csv(\"/content/gdrive/MyDrive/Colab Notebooks/ML/data1.txt\", header=None, usecols=[1], sep=',')     # Загружает данные из файла data1.txt в датафрейм dataY\n",
        "data_X = np.asarray(dataX)       # Преобразует данные из dataX в массив NumPy\n",
        "data_Y = np.asarray(dataY)       # Преобразует данные из dataY в массив NumPy\n"
      ],
      "metadata": {
        "id": "DWHfWVs-a8U2"
      },
      "execution_count": null,
      "outputs": []
    },
    {
      "cell_type": "code",
      "source": [
        "X_train, X_test, Y_train, Y_test = train_test_split(data_X, data_Y, test_size=0.3, random_state=0)       # Разделяет данные на обучающую и тестовую выборки в соотношении 70:30\n"
      ],
      "metadata": {
        "id": "Ocu778hga9E9"
      },
      "execution_count": null,
      "outputs": []
    },
    {
      "cell_type": "code",
      "source": [
        "scaler = StandardScaler()        # Инициализирует объект StandardScaler для стандартизации данных\n",
        "X_train_scaled = scaler.fit_transform(X_train)        # Применяет стандартизацию к обучающей выборке\n",
        "X_test_scaled = scaler.transform(X_test)              # Применяет стандартизацию к тестовой выборке"
      ],
      "metadata": {
        "id": "Fa8B7sADa_iB"
      },
      "execution_count": null,
      "outputs": []
    },
    {
      "cell_type": "code",
      "source": [
        "model_sgd = SGDRegressor(alpha=0.1, max_iter=1000, tol=1e-3, random_state=0)       # Инициализирует модель SGDRegressor с определенными параметрами\n",
        "model_sgd.fit(X_train_scaled, Y_train)        # Обучает модель на стандартизованных данных\n"
      ],
      "metadata": {
        "colab": {
          "base_uri": "https://localhost:8080/",
          "height": 131
        },
        "id": "yGglFBMibfrV",
        "outputId": "9c044cd1-db1c-4c1e-81a6-d37209895749"
      },
      "execution_count": null,
      "outputs": [
        {
          "output_type": "stream",
          "name": "stderr",
          "text": [
            "/usr/local/lib/python3.10/dist-packages/sklearn/utils/validation.py:1143: DataConversionWarning: A column-vector y was passed when a 1d array was expected. Please change the shape of y to (n_samples, ), for example using ravel().\n",
            "  y = column_or_1d(y, warn=True)\n"
          ]
        },
        {
          "output_type": "execute_result",
          "data": {
            "text/plain": [
              "SGDRegressor(alpha=0.1, random_state=0)"
            ],
            "text/html": [
              "<style>#sk-container-id-1 {color: black;background-color: white;}#sk-container-id-1 pre{padding: 0;}#sk-container-id-1 div.sk-toggleable {background-color: white;}#sk-container-id-1 label.sk-toggleable__label {cursor: pointer;display: block;width: 100%;margin-bottom: 0;padding: 0.3em;box-sizing: border-box;text-align: center;}#sk-container-id-1 label.sk-toggleable__label-arrow:before {content: \"▸\";float: left;margin-right: 0.25em;color: #696969;}#sk-container-id-1 label.sk-toggleable__label-arrow:hover:before {color: black;}#sk-container-id-1 div.sk-estimator:hover label.sk-toggleable__label-arrow:before {color: black;}#sk-container-id-1 div.sk-toggleable__content {max-height: 0;max-width: 0;overflow: hidden;text-align: left;background-color: #f0f8ff;}#sk-container-id-1 div.sk-toggleable__content pre {margin: 0.2em;color: black;border-radius: 0.25em;background-color: #f0f8ff;}#sk-container-id-1 input.sk-toggleable__control:checked~div.sk-toggleable__content {max-height: 200px;max-width: 100%;overflow: auto;}#sk-container-id-1 input.sk-toggleable__control:checked~label.sk-toggleable__label-arrow:before {content: \"▾\";}#sk-container-id-1 div.sk-estimator input.sk-toggleable__control:checked~label.sk-toggleable__label {background-color: #d4ebff;}#sk-container-id-1 div.sk-label input.sk-toggleable__control:checked~label.sk-toggleable__label {background-color: #d4ebff;}#sk-container-id-1 input.sk-hidden--visually {border: 0;clip: rect(1px 1px 1px 1px);clip: rect(1px, 1px, 1px, 1px);height: 1px;margin: -1px;overflow: hidden;padding: 0;position: absolute;width: 1px;}#sk-container-id-1 div.sk-estimator {font-family: monospace;background-color: #f0f8ff;border: 1px dotted black;border-radius: 0.25em;box-sizing: border-box;margin-bottom: 0.5em;}#sk-container-id-1 div.sk-estimator:hover {background-color: #d4ebff;}#sk-container-id-1 div.sk-parallel-item::after {content: \"\";width: 100%;border-bottom: 1px solid gray;flex-grow: 1;}#sk-container-id-1 div.sk-label:hover label.sk-toggleable__label {background-color: #d4ebff;}#sk-container-id-1 div.sk-serial::before {content: \"\";position: absolute;border-left: 1px solid gray;box-sizing: border-box;top: 0;bottom: 0;left: 50%;z-index: 0;}#sk-container-id-1 div.sk-serial {display: flex;flex-direction: column;align-items: center;background-color: white;padding-right: 0.2em;padding-left: 0.2em;position: relative;}#sk-container-id-1 div.sk-item {position: relative;z-index: 1;}#sk-container-id-1 div.sk-parallel {display: flex;align-items: stretch;justify-content: center;background-color: white;position: relative;}#sk-container-id-1 div.sk-item::before, #sk-container-id-1 div.sk-parallel-item::before {content: \"\";position: absolute;border-left: 1px solid gray;box-sizing: border-box;top: 0;bottom: 0;left: 50%;z-index: -1;}#sk-container-id-1 div.sk-parallel-item {display: flex;flex-direction: column;z-index: 1;position: relative;background-color: white;}#sk-container-id-1 div.sk-parallel-item:first-child::after {align-self: flex-end;width: 50%;}#sk-container-id-1 div.sk-parallel-item:last-child::after {align-self: flex-start;width: 50%;}#sk-container-id-1 div.sk-parallel-item:only-child::after {width: 0;}#sk-container-id-1 div.sk-dashed-wrapped {border: 1px dashed gray;margin: 0 0.4em 0.5em 0.4em;box-sizing: border-box;padding-bottom: 0.4em;background-color: white;}#sk-container-id-1 div.sk-label label {font-family: monospace;font-weight: bold;display: inline-block;line-height: 1.2em;}#sk-container-id-1 div.sk-label-container {text-align: center;}#sk-container-id-1 div.sk-container {/* jupyter's `normalize.less` sets `[hidden] { display: none; }` but bootstrap.min.css set `[hidden] { display: none !important; }` so we also need the `!important` here to be able to override the default hidden behavior on the sphinx rendered scikit-learn.org. See: https://github.com/scikit-learn/scikit-learn/issues/21755 */display: inline-block !important;position: relative;}#sk-container-id-1 div.sk-text-repr-fallback {display: none;}</style><div id=\"sk-container-id-1\" class=\"sk-top-container\"><div class=\"sk-text-repr-fallback\"><pre>SGDRegressor(alpha=0.1, random_state=0)</pre><b>In a Jupyter environment, please rerun this cell to show the HTML representation or trust the notebook. <br />On GitHub, the HTML representation is unable to render, please try loading this page with nbviewer.org.</b></div><div class=\"sk-container\" hidden><div class=\"sk-item\"><div class=\"sk-estimator sk-toggleable\"><input class=\"sk-toggleable__control sk-hidden--visually\" id=\"sk-estimator-id-1\" type=\"checkbox\" checked><label for=\"sk-estimator-id-1\" class=\"sk-toggleable__label sk-toggleable__label-arrow\">SGDRegressor</label><div class=\"sk-toggleable__content\"><pre>SGDRegressor(alpha=0.1, random_state=0)</pre></div></div></div></div></div>"
            ]
          },
          "metadata": {},
          "execution_count": 7
        }
      ]
    },
    {
      "cell_type": "code",
      "source": [
        "y_pred_sgd = model_sgd.predict(X_test_scaled)       # Получает предсказания модели на тестовой выборке\n",
        "mse_sgd = metrics.mean_squared_error(Y_test, y_pred_sgd)       # Вычисляет среднеквадратичную ошибку (MSE) между истинными значениями и предсказанными значениями\n",
        "print(\"MSE: \", mse_sgd)      # Выводит значение MSE"
      ],
      "metadata": {
        "colab": {
          "base_uri": "https://localhost:8080/"
        },
        "id": "IuxppCcEbivt",
        "outputId": "6a39a3ef-53eb-43d0-c2c0-f1515f37a4ef"
      },
      "execution_count": null,
      "outputs": [
        {
          "output_type": "stream",
          "name": "stdout",
          "text": [
            "MSE:  9.166312076915483\n"
          ]
        }
      ]
    }
  ]
}