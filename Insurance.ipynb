{
  "nbformat": 4,
  "nbformat_minor": 0,
  "metadata": {
    "colab": {
      "provenance": []
    },
    "kernelspec": {
      "name": "python3",
      "display_name": "Python 3"
    },
    "language_info": {
      "name": "python"
    }
  },
  "cells": [
    {
      "cell_type": "code",
      "source": [
        "from google.colab import drive          # Импорт библиотеки google.colab. Используется для работы с Google Colaboratory - облачным сервисом и позволяет запускать Python-скрипты в браузере\n",
        "drive.mount('/content/gdrive/')         # Монтирует диск Google Drive в системе файлов Colab"
      ],
      "metadata": {
        "colab": {
          "base_uri": "https://localhost:8080/"
        },
        "id": "dcSWvsL_8xeR",
        "outputId": "ae47d78a-2357-482a-8405-ca3ab76a92e1"
      },
      "execution_count": null,
      "outputs": [
        {
          "output_type": "stream",
          "name": "stdout",
          "text": [
            "Drive already mounted at /content/gdrive/; to attempt to forcibly remount, call drive.mount(\"/content/gdrive/\", force_remount=True).\n"
          ]
        }
      ]
    },
    {
      "cell_type": "code",
      "source": [
        "!ls /content/gdrive/                    # Проверяем корневой директории Google Drive"
      ],
      "metadata": {
        "id": "Bb4l3rFlIsys",
        "outputId": "133f7089-3981-40c1-a5da-dae45dda8eaf",
        "colab": {
          "base_uri": "https://localhost:8080/"
        }
      },
      "execution_count": null,
      "outputs": [
        {
          "output_type": "stream",
          "name": "stdout",
          "text": [
            "MyDrive\n"
          ]
        }
      ]
    },
    {
      "cell_type": "code",
      "source": [
        "!ls \"/content/gdrive/MyDrive/Colab Notebooks/ML/\"     # Проверяем содержимое папки \"Colab Notebooks/ML\" в Google Drive\n"
      ],
      "metadata": {
        "outputId": "96acc3a8-4931-45ab-b42f-34c8eec736e1",
        "colab": {
          "base_uri": "https://localhost:8080/"
        },
        "id": "zWC-sI17IayZ"
      },
      "execution_count": null,
      "outputs": [
        {
          "output_type": "stream",
          "name": "stdout",
          "text": [
            "data1.txt     insurance.csv  Spam_Classifier.ipynb\n",
            "ex1data2.txt  Lesson-1\t     spamTrain.mat\n"
          ]
        }
      ]
    },
    {
      "cell_type": "code",
      "execution_count": null,
      "metadata": {
        "id": "2q37vDLm7-aX"
      },
      "outputs": [],
      "source": [
        "import numpy as np                                        # Импортирует библиотеку NumPy, которая используется для работы с многомерными массивами и матрицами\n",
        "import pandas as pd                                       # Импортирует библиотеку Pandas, которая используется для работы с таблицами и временными рядами\n",
        "import scipy.io as io                                     # Импортирует библиотеку SciPy, которая содержит модуль io, используемый для чтения и записи файлов в различных форматах\n",
        "from sklearn import metrics                               # Импортирует модуль metrics из библиотеки Scikit-learn, который содержит различные функции для вычисления метрик качества моделей\n",
        "from sklearn.preprocessing import StandardScaler          # Импортирует класс StandardScaler из модуля preprocessing библиотеки Scikit-learn, который используется для стандартизации данных\n",
        "from sklearn.model_selection import train_test_split      # мпортирует функцию train_test_split из модуля model_selection библиотеки Scikit-learn, которая используется для разделения данных на обучающую и тестовую выборки\n",
        "from sklearn.linear_model import LinearRegression          # Импортирует классы моделей LinearRegression, Lasso, Ridge, SGDRegressor и SGDClassifier из модуля linear_model библиотеки Scikit-learn"
      ]
    },
    {
      "cell_type": "code",
      "source": [
        "# Считываем данные из файла insurance.csv и загружаем их в датафрейм data\n",
        "data = pd.read_csv(\"/content/gdrive/MyDrive/Colab Notebooks/ML/insurance.csv\")\n",
        "data = pd.get_dummies(data, drop_first=True) # Преобразуем категориальные признаки в бинарные\n",
        "data_X = data.drop(columns=['charges']).values # Отделяем признаки от целевой переменной\n",
        "data_Y = data['charges'].values # Оставляем только целевую переменную"
      ],
      "metadata": {
        "id": "0qv1lvhH8RzK"
      },
      "execution_count": null,
      "outputs": []
    },
    {
      "cell_type": "code",
      "source": [
        "X_train, X_test, Y_train, Y_test = train_test_split(data_X, data_Y, test_size=0.3,random_state=0)    # Разбиваем данные на обучающую и тестовую выборки в соотношении 70:30\n",
        "print(X_train[:5], \"\\n\", Y_train[:5])    # Выводим первые 5 элементов обучающей выборки"
      ],
      "metadata": {
        "id": "3RseS27YG9hn",
        "colab": {
          "base_uri": "https://localhost:8080/"
        },
        "outputId": "b0bc5ec2-4865-4166-8528-4a7460553078"
      },
      "execution_count": null,
      "outputs": [
        {
          "output_type": "stream",
          "name": "stdout",
          "text": [
            "[[18.    28.215  0.     0.     0.     0.     0.     0.   ]\n",
            " [39.    32.8    0.     0.     0.     0.     0.     1.   ]\n",
            " [52.    46.75   5.     0.     0.     0.     1.     0.   ]\n",
            " [44.    26.41   0.     0.     0.     1.     0.     0.   ]\n",
            " [33.    27.455  2.     1.     0.     1.     0.     0.   ]] \n",
            " [ 2200.83085  5649.715   12592.5345   7419.4779   5261.46945]\n"
          ]
        }
      ]
    },
    {
      "cell_type": "code",
      "source": [
        "# Функция для вычисления метрик качества модели\n",
        "def calc_metrics(true, pred):\n",
        "    mse = metrics.mean_squared_error(true, pred)\n",
        "    rmse = np.sqrt(mse)\n",
        "    mae = metrics.mean_absolute_error(true, pred)\n",
        "    r2=metrics.r2_score(true, pred) #Коэффициент детерминации измеряет долю дисперсии.Фактически, данная мера качества — это нормированная среднеквадратичная ошибка. Если r2 близка к единице, то модель хорошо объясняет данные.\n",
        "\n",
        "    print(\"RMSE:  {}\\nMAE:   {} \\nR2:   {}\".format(rmse, mae, r2))      # Выводим значения метрик"
      ],
      "metadata": {
        "id": "7tVtdHeoB3iV"
      },
      "execution_count": null,
      "outputs": []
    },
    {
      "cell_type": "markdown",
      "source": [
        "# LinearRegression"
      ],
      "metadata": {
        "id": "NcKk-dugyf8m"
      }
    },
    {
      "cell_type": "code",
      "source": [
        "model_linear = LinearRegression()           # Инициализируем модель LinearRegression\n",
        "model_linear.fit(X_train, Y_train)          # Обучаем модель на обучающей выборке\n",
        "print(model_linear.coef_, model_linear.intercept_)  # Выводим коэффициенты модели и свободный член"
      ],
      "metadata": {
        "colab": {
          "base_uri": "https://localhost:8080/"
        },
        "id": "sDuXkLyJkkdv",
        "outputId": "a9297b12-830b-4eff-93bd-9e71a9e0e1f0"
      },
      "execution_count": null,
      "outputs": [
        {
          "output_type": "stream",
          "name": "stdout",
          "text": [
            "[  256.43544682   335.36907276   472.70978916   -47.54675517\n",
            " 23435.99116948  -561.90114536  -994.74867954  -799.44893726] -11835.30968287872\n"
          ]
        }
      ]
    },
    {
      "cell_type": "code",
      "source": [
        "y_pred_linear = model_linear.predict(X_test)          # Применяем модель на тестовой выборке\n",
        "calc_metrics(Y_test, y_pred_linear)                   # Вычисляем метрики качества модели"
      ],
      "metadata": {
        "colab": {
          "base_uri": "https://localhost:8080/"
        },
        "id": "D6ld31b7MRjs",
        "outputId": "df9c3db6-ffce-45b9-f61b-33b947e188f2"
      },
      "execution_count": null,
      "outputs": [
        {
          "output_type": "stream",
          "name": "stdout",
          "text": [
            "RMSE:  5774.296305780867\n",
            "MAE:   4011.4496793279895 \n",
            "R2:   0.7909160991789905\n"
          ]
        }
      ]
    }
  ]
}