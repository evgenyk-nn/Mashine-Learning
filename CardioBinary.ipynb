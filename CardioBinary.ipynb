{
  "nbformat": 4,
  "nbformat_minor": 0,
  "metadata": {
    "colab": {
      "provenance": []
    },
    "kernelspec": {
      "name": "python3",
      "display_name": "Python 3"
    },
    "language_info": {
      "name": "python"
    }
  },
  "cells": [
    {
      "cell_type": "markdown",
      "source": [
        "**Определение сердечно- сосудистых заболеваний Features: Возраст (в днях) Рост Вес Пол Систолическое кровяное давление Диастолическое кровяное давление Уровень холестерина 1: норма, 2: выше нормы, 3: сильно выше нормы Уровень глюкозы 1: норма, 2: выше нормы, 3: сильно выше нормы Курение Потребление алкоголя Физическая активность У - Наличие или отсутствие сердечно-сосудистых заболеваний (1 – есть заболевание, 0 – нет заболевания)**"
      ],
      "metadata": {
        "id": "sP_2kjK_y4tB"
      }
    },
    {
      "cell_type": "code",
      "source": [
        "from google.colab import drive\n",
        "drive.mount('/content/gdrive/')"
      ],
      "metadata": {
        "colab": {
          "base_uri": "https://localhost:8080/"
        },
        "id": "DLqa1nLgkD4a",
        "outputId": "2c6ffc69-e48a-4c39-cb80-89d60af3a6fe"
      },
      "execution_count": null,
      "outputs": [
        {
          "output_type": "stream",
          "name": "stdout",
          "text": [
            "Drive already mounted at /content/gdrive/; to attempt to forcibly remount, call drive.mount(\"/content/gdrive/\", force_remount=True).\n"
          ]
        }
      ]
    },
    {
      "cell_type": "code",
      "source": [
        "!ls -l '/content/gdrive/'"
      ],
      "metadata": {
        "colab": {
          "base_uri": "https://localhost:8080/"
        },
        "id": "e7FrbmoRkGXI",
        "outputId": "f8d4755e-eda3-4207-ab6f-65910034e957"
      },
      "execution_count": null,
      "outputs": [
        {
          "output_type": "stream",
          "name": "stdout",
          "text": [
            "total 4\n",
            "drwx------ 12 root root 4096 Jun  5 15:13 MyDrive\n"
          ]
        }
      ]
    },
    {
      "cell_type": "code",
      "source": [
        "import pandas as pd\n",
        "import numpy as np\n",
        "from sklearn.model_selection import train_test_split\n",
        "from sklearn.preprocessing import StandardScaler\n",
        "from sklearn.decomposition import PCA\n",
        "from sklearn.naive_bayes import GaussianNB\n",
        "from sklearn.linear_model import LogisticRegression\n",
        "from sklearn.tree import DecisionTreeClassifier\n",
        "from sklearn.ensemble import RandomForestClassifier\n",
        "from sklearn import metrics\n",
        "from sklearn.pipeline import make_pipeline"
      ],
      "metadata": {
        "id": "Wx82ajXfkMQo"
      },
      "execution_count": null,
      "outputs": []
    },
    {
      "cell_type": "code",
      "source": [
        "# Считываем данные из файла cardio.csv и загружаем их в датафрейм data\n",
        "data = pd.read_csv('/content/gdrive/MyDrive/Colab Notebooks/ML/cardio_binary.csv')"
      ],
      "metadata": {
        "id": "cZW_7xfRkP8g"
      },
      "execution_count": null,
      "outputs": []
    },
    {
      "cell_type": "code",
      "source": [
        "# Считываем данные из файла cardio.csv и загружаем их в датафрейм data\n",
        "data = pd.read_csv('/content/gdrive/MyDrive/Colab Notebooks/ML/cardio_binary.csv', delimiter=';')\n",
        "print(data)"
      ],
      "metadata": {
        "colab": {
          "base_uri": "https://localhost:8080/"
        },
        "id": "74pVGge6kSII",
        "outputId": "5d9c2e38-bebf-4c57-dda8-a6eec1c3a2ef"
      },
      "execution_count": null,
      "outputs": [
        {
          "output_type": "stream",
          "name": "stdout",
          "text": [
            "          id    age  gender  height  weight  ap_hi  ap_lo  cholesterol  gluc  \\\n",
            "0          0  18393       2     168    62.0    110     80            1     1   \n",
            "1          1  20228       1     156    85.0    140     90            3     1   \n",
            "2          2  18857       1     165    64.0    130     70            3     1   \n",
            "3          3  17623       2     169    82.0    150    100            1     1   \n",
            "4          4  17474       1     156    56.0    100     60            1     1   \n",
            "...      ...    ...     ...     ...     ...    ...    ...          ...   ...   \n",
            "69992  99993  19240       2     168    76.0    120     80            1     1   \n",
            "69993  99995  22601       1     158   126.0    140     90            2     2   \n",
            "69994  99996  19066       2     183   105.0    180     90            3     1   \n",
            "69995  99998  22431       1     163    72.0    135     80            1     2   \n",
            "69996  99999  20540       1     170    72.0    120     80            2     1   \n",
            "\n",
            "       smoke  alco  active  cardio  \n",
            "0          0     0       1       0  \n",
            "1          0     0       1       1  \n",
            "2          0     0       0       1  \n",
            "3          0     0       1       1  \n",
            "4          0     0       0       0  \n",
            "...      ...   ...     ...     ...  \n",
            "69992      1     0       1       0  \n",
            "69993      0     0       1       1  \n",
            "69994      0     1       0       1  \n",
            "69995      0     0       0       1  \n",
            "69996      0     0       1       0  \n",
            "\n",
            "[69997 rows x 13 columns]\n"
          ]
        }
      ]
    },
    {
      "cell_type": "code",
      "source": [
        "# Оставляем только необходимые признаки\n",
        "features = ['id','age','gender','height','weight','ap_hi','ap_lo','cholesterol','gluc','smoke','alco','active','cardio']\n",
        "data = data[features]\n",
        "print(data)"
      ],
      "metadata": {
        "colab": {
          "base_uri": "https://localhost:8080/"
        },
        "id": "LG8eodZkkUox",
        "outputId": "ac4f168b-35cc-467f-971c-6843b055bf37"
      },
      "execution_count": null,
      "outputs": [
        {
          "output_type": "stream",
          "name": "stdout",
          "text": [
            "          id    age  gender  height  weight  ap_hi  ap_lo  cholesterol  gluc  \\\n",
            "0          0  18393       2     168    62.0    110     80            1     1   \n",
            "1          1  20228       1     156    85.0    140     90            3     1   \n",
            "2          2  18857       1     165    64.0    130     70            3     1   \n",
            "3          3  17623       2     169    82.0    150    100            1     1   \n",
            "4          4  17474       1     156    56.0    100     60            1     1   \n",
            "...      ...    ...     ...     ...     ...    ...    ...          ...   ...   \n",
            "69992  99993  19240       2     168    76.0    120     80            1     1   \n",
            "69993  99995  22601       1     158   126.0    140     90            2     2   \n",
            "69994  99996  19066       2     183   105.0    180     90            3     1   \n",
            "69995  99998  22431       1     163    72.0    135     80            1     2   \n",
            "69996  99999  20540       1     170    72.0    120     80            2     1   \n",
            "\n",
            "       smoke  alco  active  cardio  \n",
            "0          0     0       1       0  \n",
            "1          0     0       1       1  \n",
            "2          0     0       0       1  \n",
            "3          0     0       1       1  \n",
            "4          0     0       0       0  \n",
            "...      ...   ...     ...     ...  \n",
            "69992      1     0       1       0  \n",
            "69993      0     0       1       1  \n",
            "69994      0     1       0       1  \n",
            "69995      0     0       0       1  \n",
            "69996      0     0       1       0  \n",
            "\n",
            "[69997 rows x 13 columns]\n"
          ]
        }
      ]
    },
    {
      "cell_type": "code",
      "source": [
        "# Преобразуем категориальные признаки в бинарные\n",
        "data = pd.get_dummies(data, columns=['gender', 'cholesterol', 'gluc', 'smoke', 'alco', 'active'], drop_first=True)\n"
      ],
      "metadata": {
        "id": "1qHWNzPHkcXi"
      },
      "execution_count": null,
      "outputs": []
    },
    {
      "cell_type": "code",
      "source": [
        "# Отделяем признаки от целевой переменной\n",
        "data_X = data.drop(columns=['cardio']).values\n",
        "data_Y = data['cardio'].values"
      ],
      "metadata": {
        "id": "bu2C7Q1Xkgg5"
      },
      "execution_count": null,
      "outputs": []
    },
    {
      "cell_type": "code",
      "source": [
        "# Разбиваем данные на обучающую и тестовую выборки в соотношении 70:30\n",
        "X_train, X_test, y_train, y_test = train_test_split(data_X, data_Y, test_size=0.3, random_state=0)"
      ],
      "metadata": {
        "id": "7m4yO3qmkj7p"
      },
      "execution_count": null,
      "outputs": []
    },
    {
      "cell_type": "code",
      "source": [
        "# Функция для вычисления метрик качества модели\n",
        "def calc_metrics(true, pred):\n",
        "    acc = metrics.accuracy_score(true, pred)\n",
        "    auc = metrics.roc_auc_score(true, pred)\n",
        "    f1 = metrics.f1_score(true, pred)\n",
        "\n",
        "    print(\"Accuracy: {:.2%}\\nROC AUC: {:.2%}\\nF1: {:.2%}\".format(acc, auc, f1))"
      ],
      "metadata": {
        "id": "Zzqv_gL4knUB"
      },
      "execution_count": null,
      "outputs": []
    },
    {
      "cell_type": "code",
      "execution_count": null,
      "metadata": {
        "colab": {
          "base_uri": "https://localhost:8080/"
        },
        "id": "Hpqk9p5xjv5D",
        "outputId": "dd6f4460-72e6-4022-8691-f10e90776f4a"
      },
      "outputs": [
        {
          "output_type": "stream",
          "name": "stdout",
          "text": [
            "Logistic Regression\n",
            "Accuracy: 59.34%\n",
            "ROC AUC: 59.31%\n",
            "F1: 49.55%\n"
          ]
        }
      ],
      "source": [
        "# Обучение и оценка Logistic Regression\n",
        "lr_clf = make_pipeline(StandardScaler(), PCA(n_components=2), LogisticRegression(random_state=0))\n",
        "lr_clf.fit(X_train, y_train)\n",
        "pred_lr = lr_clf.predict(X_test)\n",
        "print(\"Logistic Regression\")\n",
        "calc_metrics(y_test, pred_lr)\n"
      ]
    },
    {
      "cell_type": "markdown",
      "source": [
        "Полученные результаты относятся к модели логистической регрессии, которая была обучена и оценена на задаче определения сердечно-сосудистых заболеваний.\n",
        "\n",
        "**Accuracy (Точность): 59.34%**\n",
        "\n",
        "Это процент правильных предсказаний модели относительно общего числа примеров.\n",
        "В данном случае, модель правильно классифицировала **около 59.34%** примеров тестовых данных.\n",
        "ROC AUC (Площадь под кривой ROC): 59.30%\n",
        "\n",
        "**ROC AUC** является метрикой, оценивающей качество бинарной классификации.\n",
        "**Значение 59.31%** указывает на то, что модель имеет некоторую способность различать между положительными и отрицательными классами, но качество предсказания не является очень высоким.\n",
        "F1-мера: 49.55%\n",
        "\n",
        "**F1**-мера является сбалансированной метрикой, которая учитывает как точность, так и полноту модели.\n",
        "**Значение 49.55%** указывает на среднюю гармоническую меру между точностью и полнотой модели.\n",
        "Низкое значение F1-меры может говорить о том, что модель имеет проблемы с правильным и полным предсказанием классов.\n",
        "Итак, результаты указывают на то, что модель логистической регрессии имеет некоторые ограничения в точности и способности различать между классами в задаче определения сердечно-сосудистых заболеваний. Возможно, есть место для улучшения модели или использования других алгоритмов машинного обучения для достижения более высоких показателей качества."
      ],
      "metadata": {
        "id": "L69B22x_Me5E"
      }
    }
  ]
}