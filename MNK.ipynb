{
  "nbformat": 4,
  "nbformat_minor": 0,
  "metadata": {
    "colab": {
      "provenance": []
    },
    "kernelspec": {
      "name": "python3",
      "display_name": "Python 3"
    },
    "language_info": {
      "name": "python"
    }
  },
  "cells": [
    {
      "cell_type": "markdown",
      "source": [
        "**Обучение модели линейной регрессии с использованием метода наименьших квадратов (МНК)**"
      ],
      "metadata": {
        "id": "Gnfwt2VbVy9S"
      }
    },
    {
      "cell_type": "code",
      "execution_count": null,
      "metadata": {
        "colab": {
          "base_uri": "https://localhost:8080/"
        },
        "id": "Q96H6sc4szeN",
        "outputId": "143d9e08-633c-469a-d005-c0f9c2f277c1"
      },
      "outputs": [
        {
          "output_type": "stream",
          "name": "stdout",
          "text": [
            "Drive already mounted at /content/gdrive/; to attempt to forcibly remount, call drive.mount(\"/content/gdrive/\", force_remount=True).\n"
          ]
        }
      ],
      "source": [
        "from google.colab import drive\n",
        "drive.mount('/content/gdrive/')"
      ]
    },
    {
      "cell_type": "code",
      "source": [
        "import numpy as np\n",
        "import pandas as pd\n",
        "import scipy.io as io\n",
        "from sklearn import metrics\n",
        "from sklearn.preprocessing import StandardScaler\n",
        "from sklearn.model_selection import train_test_split\n",
        "from sklearn.linear_model import LinearRegression"
      ],
      "metadata": {
        "id": "j22EZ90as8lA"
      },
      "execution_count": null,
      "outputs": []
    },
    {
      "cell_type": "code",
      "source": [
        "data = pd.read_csv(\"/content/gdrive/MyDrive/Colab Notebooks/ML/data1.txt\", header=None, sep=',')\n",
        "data_X = data.iloc[:, :-1].values  # признаки\n",
        "data_y = data.iloc[:, -1].values   # целевая переменная"
      ],
      "metadata": {
        "id": "5snwCXfMs_Pn"
      },
      "execution_count": null,
      "outputs": []
    },
    {
      "cell_type": "code",
      "source": [
        "# разделение данных на обучающую и тестовую выборки\n",
        "X_train, X_test, y_train, y_test = train_test_split(data_X, data_y, test_size=0.3, random_state=0)\n"
      ],
      "metadata": {
        "id": "T1NUWnW-tDyP"
      },
      "execution_count": null,
      "outputs": []
    },
    {
      "cell_type": "code",
      "source": [
        "# стандартизация признаков\n",
        "scaler = StandardScaler()\n",
        "X_train = scaler.fit_transform(X_train)\n",
        "X_test = scaler.transform(X_test)"
      ],
      "metadata": {
        "id": "IhvjwzsutIEn"
      },
      "execution_count": null,
      "outputs": []
    },
    {
      "cell_type": "code",
      "source": [
        "# добавление столбца единиц к матрице признаков для учета свободного члена\n",
        "X_train = np.hstack([np.ones((X_train.shape[0], 1)), X_train])\n",
        "X_test = np.hstack([np.ones((X_test.shape[0], 1)), X_test])"
      ],
      "metadata": {
        "id": "wjA1KTePtLvW"
      },
      "execution_count": null,
      "outputs": []
    },
    {
      "cell_type": "code",
      "source": [
        "# решение системы уравнений методом наименьших квадратов\n",
        "w = np.linalg.inv(X_train.T @ X_train) @ X_train.T @ y_train"
      ],
      "metadata": {
        "id": "iekMm7UGtOHm"
      },
      "execution_count": null,
      "outputs": []
    },
    {
      "cell_type": "code",
      "source": [
        "# прогнозирование целевой переменной на тестовой выборке\n",
        "y_pred = X_test @ w"
      ],
      "metadata": {
        "id": "WKgSXJMotQsG"
      },
      "execution_count": null,
      "outputs": []
    },
    {
      "cell_type": "code",
      "source": [
        "# вычисление метрик качества\n",
        "def calc_metrics(true, pred):\n",
        "    mse = metrics.mean_squared_error(true, pred)\n",
        "    rmse = np.sqrt(mse)\n",
        "    mae = metrics.mean_absolute_error(true, pred)\n",
        "    r2 = metrics.r2_score(true, pred)\n",
        "    print(\"RMSE:  {}\\nMAE:   {} \\nR2:   {}\".format(rmse, mae, r2))\n"
      ],
      "metadata": {
        "id": "euycflFGtTeO"
      },
      "execution_count": null,
      "outputs": []
    },
    {
      "cell_type": "code",
      "source": [
        "calc_metrics(y_test, y_pred)"
      ],
      "metadata": {
        "colab": {
          "base_uri": "https://localhost:8080/"
        },
        "id": "4Fr9eK2stXXm",
        "outputId": "ac811f12-f2e3-4a30-e073-989fc164afbf"
      },
      "execution_count": null,
      "outputs": [
        {
          "output_type": "stream",
          "name": "stdout",
          "text": [
            "RMSE:  3.0162284731205884\n",
            "MAE:   2.341654819981192 \n",
            "R2:   0.5925170253216789\n"
          ]
        }
      ]
    }
  ]
}