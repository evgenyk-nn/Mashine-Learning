{
  "nbformat": 4,
  "nbformat_minor": 0,
  "metadata": {
    "colab": {
      "provenance": []
    },
    "kernelspec": {
      "name": "python3",
      "display_name": "Python 3"
    },
    "language_info": {
      "name": "python"
    }
  },
  "cells": [
    {
      "cell_type": "markdown",
      "source": [
        "Реализация простых моделей линейной регрессии (**LinearRegression**), Lasso регрессии (**Lasso**) и Ridge регрессии (**Ridge**) для прогнозирования зависимой переменной на основе независимой переменной. Он использует различные метрики качества, такие как **среднеквадратичная ошибка (MSE)**, **средняя абсолютная ошибка (MAE)** и **коэффициент детерминации (R2)**, для оценки производительности моделей."
      ],
      "metadata": {
        "id": "aT_Fw6kFBNpE"
      }
    },
    {
      "cell_type": "code",
      "source": [
        "from google.colab import drive          # Импорт библиотеки google.colab. Используется для работы с Google Colaboratory - облачным сервисом и позволяет запускать Python-скрипты в браузере\n",
        "drive.mount('/content/gdrive/')         # Монтирует диск Google Drive в системе файлов Colab"
      ],
      "metadata": {
        "colab": {
          "base_uri": "https://localhost:8080/"
        },
        "id": "dcSWvsL_8xeR",
        "outputId": "07ed8342-0b86-421e-8ee6-7cf8dc7f23fa"
      },
      "execution_count": null,
      "outputs": [
        {
          "output_type": "stream",
          "name": "stdout",
          "text": [
            "Drive already mounted at /content/gdrive/; to attempt to forcibly remount, call drive.mount(\"/content/gdrive/\", force_remount=True).\n"
          ]
        }
      ]
    },
    {
      "cell_type": "code",
      "source": [
        "!ls /content/gdrive/                    # Проверяем корневой директории Google Drive"
      ],
      "metadata": {
        "id": "Bb4l3rFlIsys",
        "outputId": "d41325ca-5f7a-49a1-b389-36eea67095bd",
        "colab": {
          "base_uri": "https://localhost:8080/"
        }
      },
      "execution_count": null,
      "outputs": [
        {
          "output_type": "stream",
          "name": "stdout",
          "text": [
            "MyDrive\n"
          ]
        }
      ]
    },
    {
      "cell_type": "code",
      "source": [
        "!ls \"/content/gdrive/MyDrive/Colab Notebooks/ML/\"     # Проверяем содержимое папки \"Colab Notebooks/ML\" в Google Drive\n"
      ],
      "metadata": {
        "outputId": "68947731-6856-4411-bc62-244634096735",
        "colab": {
          "base_uri": "https://localhost:8080/"
        },
        "id": "zWC-sI17IayZ"
      },
      "execution_count": null,
      "outputs": [
        {
          "output_type": "stream",
          "name": "stdout",
          "text": [
            " bird_small.png     'insurance (1).csv'  'Spam_Classifier (1).ipynb'\n",
            " cardio_binary.csv   insurance.csv\t  Spam_Classifier.ipynb\n",
            " data1.txt\t     Lesson-1\t\t  spamTest.mat\n",
            " diabetes.csv\t     mrt_dbscan.png\t 'spamTrain (1).mat'\n",
            " ex1data2.txt\t     mrt.png\t\t  spamTrain.mat\n"
          ]
        }
      ]
    },
    {
      "cell_type": "code",
      "execution_count": null,
      "metadata": {
        "id": "2q37vDLm7-aX"
      },
      "outputs": [],
      "source": [
        "import numpy as np                                        # Импортирует библиотеку NumPy, которая используется для работы с многомерными массивами и матрицами\n",
        "import pandas as pd                                       # Импортирует библиотеку Pandas, которая используется для работы с таблицами и временными рядами\n",
        "import scipy.io as io                                     # Импортирует библиотеку SciPy, которая содержит модуль io, используемый для чтения и записи файлов в различных форматах\n",
        "from sklearn import metrics                               # Импортирует модуль metrics из библиотеки Scikit-learn, который содержит различные функции для вычисления метрик качества моделей\n",
        "from sklearn.preprocessing import StandardScaler          # Импортирует класс StandardScaler из модуля preprocessing библиотеки Scikit-learn, который используется для стандартизации данных\n",
        "from sklearn.model_selection import train_test_split      # мпортирует функцию train_test_split из модуля model_selection библиотеки Scikit-learn, которая используется для разделения данных на обучающую и тестовую выборки\n",
        "from sklearn.linear_model import LinearRegression, Lasso, Ridge, SGDRegressor, SGDClassifier          # Импортирует классы моделей LinearRegression, Lasso, Ridge, SGDRegressor и SGDClassifier из модуля linear_model библиотеки Scikit-learn"
      ]
    },
    {
      "cell_type": "code",
      "source": [
        "# Считываем данные из файла data1.txt и загружаем их в датафреймы dataX и dataY\n",
        "dataX = pd.read_csv(\"/content/gdrive/MyDrive/Colab Notebooks/ML/data1.txt\", header=None, usecols=[0], sep=',') #change the path\n",
        "dataY = pd.read_csv(\"/content/gdrive/MyDrive/Colab Notebooks/ML/data1.txt\", header=None, usecols=[1], sep=',') #change the path\n",
        "data_X = np.asarray(dataX)\n",
        "data_Y = np.asarray(dataY)"
      ],
      "metadata": {
        "id": "0qv1lvhH8RzK"
      },
      "execution_count": null,
      "outputs": []
    },
    {
      "cell_type": "code",
      "source": [
        "X_train, X_test, Y_train, Y_test = train_test_split(data_X, data_Y, test_size=0.3,random_state=0)    # Разбиваем данные на обучающую и тестовую выборки в соотношении 70:30\n",
        "print(X_train[:3], \"\\n\", Y_train[:3])    # Выводим первые 5 элементов обучающей выборки"
      ],
      "metadata": {
        "id": "3RseS27YG9hn",
        "colab": {
          "base_uri": "https://localhost:8080/"
        },
        "outputId": "76c5603f-9993-4d32-b46f-57c1bf73580d"
      },
      "execution_count": null,
      "outputs": [
        {
          "output_type": "stream",
          "name": "stdout",
          "text": [
            "[[8.8254]\n",
            " [5.1077]\n",
            " [8.5172]] \n",
            " [[5.1694]\n",
            " [2.0576]\n",
            " [4.2415]]\n"
          ]
        }
      ]
    },
    {
      "cell_type": "code",
      "source": [
        "from sklearn import metrics\n",
        "\n",
        "# Функция для вычисления метрик качества модели\n",
        "def calc_metrics(true, pred):\n",
        "    mse = metrics.mean_squared_error(true, pred)\n",
        "    rmse = np.sqrt(mse)\n",
        "    mae = metrics.mean_absolute_error(true, pred)\n",
        "    r2=metrics.r2_score(true, pred) #Коэффициент детерминации измеряет долю дисперсии.Фактически, данная мера качества — это нормированная среднеквадратичная ошибка. Если r2 близка к единице, то модель хорошо объясняет данные.\n",
        "\n",
        "    print(\"RMSE:  {}\\nMAE:   {} \\nR2:   {}\".format(rmse, mae, r2))      # Выводим значения метрик"
      ],
      "metadata": {
        "id": "7tVtdHeoB3iV"
      },
      "execution_count": null,
      "outputs": []
    },
    {
      "cell_type": "markdown",
      "source": [
        "# LinearRegression"
      ],
      "metadata": {
        "id": "NcKk-dugyf8m"
      }
    },
    {
      "cell_type": "code",
      "source": [
        "model_linear = LinearRegression()                      # Инициализируем модель LinearRegression\n",
        "model_linear.fit(X_train, Y_train)          # Обучаем модель на обучающей выборке\n",
        "print(model_linear.coef_, model_linear.intercept_)  # Выводим коэффициенты модели и свободный член"
      ],
      "metadata": {
        "colab": {
          "base_uri": "https://localhost:8080/"
        },
        "id": "sDuXkLyJkkdv",
        "outputId": "a97ac4cb-509a-40c4-fd01-68290f0cd6b2"
      },
      "execution_count": null,
      "outputs": [
        {
          "output_type": "stream",
          "name": "stdout",
          "text": [
            "[[1.19869775]] [-3.86246206]\n"
          ]
        }
      ]
    },
    {
      "cell_type": "code",
      "source": [
        "y_pred_linear = model_linear.predict(X_test)          # Применяем модель на тестовой выборке\n",
        "calc_metrics(Y_test, y_pred_linear)                   # Вычисляем метрики качества модели"
      ],
      "metadata": {
        "colab": {
          "base_uri": "https://localhost:8080/"
        },
        "id": "D6ld31b7MRjs",
        "outputId": "33b4b051-5f88-4b83-cb13-fe3803ac9cf2"
      },
      "execution_count": null,
      "outputs": [
        {
          "output_type": "stream",
          "name": "stdout",
          "text": [
            "RMSE:  3.016228473120588\n",
            "MAE:   2.341654819981191 \n",
            "R2:   0.592517025321679\n"
          ]
        }
      ]
    },
    {
      "cell_type": "markdown",
      "source": [
        "# Lasso\n"
      ],
      "metadata": {
        "id": "9idGVquzzBM8"
      }
    },
    {
      "cell_type": "code",
      "source": [
        "model_lasso = Lasso(alpha=0.1)                      # Инициализируем модель Lasso\n",
        "model_lasso.fit(X_train, Y_train)          # Обучаем модель на обучающей выборке\n",
        "print(model_lasso.coef_, model_lasso.intercept_)  # Выводим коэффициенты модели и свободный член"
      ],
      "metadata": {
        "colab": {
          "base_uri": "https://localhost:8080/"
        },
        "outputId": "7c5bc5b7-f795-43eb-d065-9ef6c6aa78ab",
        "id": "PIVpiVrSgF_F"
      },
      "execution_count": null,
      "outputs": [
        {
          "output_type": "stream",
          "name": "stdout",
          "text": [
            "[1.1927572] [-3.81259373]\n"
          ]
        }
      ]
    },
    {
      "cell_type": "code",
      "source": [
        "y_pred_lasso = model_lasso.predict(X_test)          # Применяем модель на тестовой выборке\n",
        "calc_metrics(Y_test, y_pred_lasso)                   # ВЫчисляем метрики качества модели"
      ],
      "metadata": {
        "colab": {
          "base_uri": "https://localhost:8080/"
        },
        "outputId": "a2a35d9d-1109-4953-902d-39bb8a840aec",
        "id": "9pF5jyt4gf30"
      },
      "execution_count": null,
      "outputs": [
        {
          "output_type": "stream",
          "name": "stdout",
          "text": [
            "RMSE:  3.015874210656135\n",
            "MAE:   2.3416009370977444 \n",
            "R2:   0.5926127391886244\n"
          ]
        }
      ]
    },
    {
      "cell_type": "markdown",
      "source": [
        "\n",
        "# Ridge"
      ],
      "metadata": {
        "id": "M-wodwSTzaJi"
      }
    },
    {
      "cell_type": "code",
      "source": [
        "model_ridge = Ridge(alpha=0.5)                      # Инициализируем модель Ridge\n",
        "model_ridge.fit(X_train, Y_train)          # Обучаем модель на обучающей выборке\n",
        "print(model_ridge.coef_, model_ridge.intercept_)  # Выводим коэффициенты модели и свободный член"
      ],
      "metadata": {
        "colab": {
          "base_uri": "https://localhost:8080/"
        },
        "outputId": "6af13692-a876-4ae6-e7e7-116da70c3246",
        "id": "36evIv2Oh__y"
      },
      "execution_count": null,
      "outputs": [
        {
          "output_type": "stream",
          "name": "stdout",
          "text": [
            "[[1.19816657]] [-3.85800307]\n"
          ]
        }
      ]
    },
    {
      "cell_type": "code",
      "source": [
        "y_pred_ridge = model_ridge.predict(X_test)          # Применяем модель на тестовой выборке\n",
        "calc_metrics(Y_test, y_pred_ridge)                   # ВЫчисляем метрики качества модели"
      ],
      "metadata": {
        "colab": {
          "base_uri": "https://localhost:8080/"
        },
        "outputId": "aa92b5fa-2e7b-44ff-ac83-81723bf6cf35",
        "id": "6ySuQRZniAAR"
      },
      "execution_count": null,
      "outputs": [
        {
          "output_type": "stream",
          "name": "stdout",
          "text": [
            "RMSE:  3.016191793762734\n",
            "MAE:   2.341650002020757 \n",
            "R2:   0.5925269357930527\n"
          ]
        }
      ]
    },
    {
      "cell_type": "code",
      "source": [
        "#добавить Lasso(), Ridge() classifiers. Compare classifiers.\n",
        "#реализовать МНК"
      ],
      "metadata": {
        "id": "1UPebzAYFVcE"
      },
      "execution_count": null,
      "outputs": []
    }
  ]
}