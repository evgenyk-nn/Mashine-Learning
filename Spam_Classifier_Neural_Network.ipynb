{
  "nbformat": 4,
  "nbformat_minor": 0,
  "metadata": {
    "colab": {
      "provenance": []
    },
    "kernelspec": {
      "name": "python3",
      "display_name": "Python 3"
    },
    "language_info": {
      "name": "python"
    }
  },
  "cells": [
    {
      "cell_type": "code",
      "execution_count": null,
      "metadata": {
        "id": "Gd570W4NCcEG"
      },
      "outputs": [],
      "source": [
        "import numpy as np\n",
        "import pandas as pd\n",
        "import scipy as sp\n",
        "import scipy.io as io\n",
        "import matplotlib.pyplot as plt"
      ]
    },
    {
      "cell_type": "code",
      "source": [
        "from sklearn import metrics\n",
        "from sklearn.svm import SVC\n",
        "from sklearn.tree import DecisionTreeClassifier\n",
        "from keras.models import Sequential\n",
        "from keras.layers import Dense"
      ],
      "metadata": {
        "id": "jk0b5xaQEtuJ"
      },
      "execution_count": null,
      "outputs": []
    },
    {
      "cell_type": "code",
      "source": [
        "# Classifiers\n",
        "\n",
        "from google.colab import drive                  # Импортируем необходимые библиотеки\n",
        "drive.mount('/content/gdrive/')"
      ],
      "metadata": {
        "colab": {
          "base_uri": "https://localhost:8080/"
        },
        "id": "B-KLkfkxEwZw",
        "outputId": "9b086110-f189-48f5-bae7-986eca150eb0"
      },
      "execution_count": null,
      "outputs": [
        {
          "output_type": "stream",
          "name": "stdout",
          "text": [
            "Mounted at /content/gdrive/\n"
          ]
        }
      ]
    },
    {
      "cell_type": "code",
      "source": [
        "!ls -l '/content/gdrive/'                  # Монтируем диск Google Drive"
      ],
      "metadata": {
        "colab": {
          "base_uri": "https://localhost:8080/"
        },
        "id": "OwM47_rqE2hv",
        "outputId": "7c331f51-bc2e-4d0a-d651-d5e427538379"
      },
      "execution_count": null,
      "outputs": [
        {
          "output_type": "stream",
          "name": "stdout",
          "text": [
            "total 4\n",
            "drwx------ 12 root root 4096 Jun  5 10:35 MyDrive\n"
          ]
        }
      ]
    },
    {
      "cell_type": "code",
      "source": [
        "# Проверяем содержимое корневой директории Google Drive\n",
        "spam_train = io.loadmat(\"/content/gdrive/MyDrive/Colab Notebooks/ML/spamTrain.mat\")\n",
        "spam_test = io.loadmat(\"/content/gdrive/MyDrive/Colab Notebooks/ML/spamTest.mat\")"
      ],
      "metadata": {
        "id": "WWvpWYDDFBQP"
      },
      "execution_count": null,
      "outputs": []
    },
    {
      "cell_type": "code",
      "source": [
        "# Загружаем данные из файлов spamTrain.mat и spamTest.mat\n",
        "spam_X_train, spam_y_train = spam_train['X'], spam_train['y']\n",
        "spam_X_test, spam_y_test = spam_test['Xtest'], spam_test['ytest']\n"
      ],
      "metadata": {
        "id": "rLPAe-pfFISf"
      },
      "execution_count": null,
      "outputs": []
    },
    {
      "cell_type": "code",
      "source": [
        "# Извлекаем обучающие и тестовые признаки и метки классов\n",
        "print(np.unique(spam_X_train))\n",
        "print(spam_X_train.shape,spam_y_train.shape)"
      ],
      "metadata": {
        "colab": {
          "base_uri": "https://localhost:8080/"
        },
        "id": "P1EjjG6EFO6Y",
        "outputId": "b8686574-7b00-452d-b2d8-89775a7910e9"
      },
      "execution_count": null,
      "outputs": [
        {
          "output_type": "stream",
          "name": "stdout",
          "text": [
            "[0 1]\n",
            "(4000, 1899) (4000, 1)\n"
          ]
        }
      ]
    },
    {
      "cell_type": "code",
      "source": [
        "# Выводим уникальные значения в обучающих признаках и размерности обучающих данных\n",
        "\n",
        "def calc_metrics_cls(true, pred):\n",
        "    stats = {\n",
        "        'Accuracy': round(metrics.accuracy_score(true, pred), 2),\n",
        "        'ROC AUC': round(metrics.roc_auc_score(true, pred), 2),\n",
        "        'F1': round(metrics.f1_score(true, pred), 2)\n",
        "    }\n",
        "    print(f\"Accuracy: {stats['Accuracy']}\\nROC AUC: {stats['ROC AUC']}\\nF1: {stats['F1']}\")\n",
        "    return stats"
      ],
      "metadata": {
        "id": "w0nh5qrVFS3N"
      },
      "execution_count": null,
      "outputs": []
    },
    {
      "cell_type": "code",
      "source": [
        "# Определяем функцию для вычисления метрик качества классификации\n",
        "cls_models_stats = {}"
      ],
      "metadata": {
        "id": "3niJr2czFWfw"
      },
      "execution_count": null,
      "outputs": []
    },
    {
      "cell_type": "markdown",
      "source": [
        "DecisionTree"
      ],
      "metadata": {
        "id": "wcBMitYvFb0m"
      }
    },
    {
      "cell_type": "code",
      "source": [
        "# Создаем пустой словарь для хранения статистик классификаторов\n",
        "\n",
        "cls_model_dt = DecisionTreeClassifier()\n",
        "cls_model_dt.fit(spam_X_train, spam_y_train)\n",
        "y_pred_cls_dt = cls_model_dt.predict(spam_X_test)\n",
        "cls_models_stats['DecisionTree'] = calc_metrics_cls(spam_y_test, y_pred_cls_dt)"
      ],
      "metadata": {
        "colab": {
          "base_uri": "https://localhost:8080/"
        },
        "id": "W8Kqyw-IFYa2",
        "outputId": "96749e7e-50ac-4902-cfe2-e407d44bcea8"
      },
      "execution_count": null,
      "outputs": [
        {
          "output_type": "stream",
          "name": "stdout",
          "text": [
            "Accuracy: 0.93\n",
            "ROC AUC: 0.93\n",
            "F1: 0.89\n"
          ]
        }
      ]
    },
    {
      "cell_type": "code",
      "source": [
        "# Обучаем модель дерева принятия решений на обучающих данных, выполняем прогноз и вычисляем метрики качества\n",
        "cls_model_svm = SVC()\n",
        "cls_model_svm.fit(spam_X_train, spam_y_train)\n",
        "y_pred_cls_dt = cls_model_svm.predict(spam_X_test)\n",
        "cls_models_stats['SVM'] = calc_metrics_cls(spam_y_test, y_pred_cls_dt)"
      ],
      "metadata": {
        "colab": {
          "base_uri": "https://localhost:8080/"
        },
        "id": "1CXPSlDyFkl9",
        "outputId": "c3738f3a-6b6a-4bdf-e06a-e36f09cdc1e1"
      },
      "execution_count": null,
      "outputs": [
        {
          "output_type": "stream",
          "name": "stderr",
          "text": [
            "/usr/local/lib/python3.10/dist-packages/sklearn/utils/validation.py:1143: DataConversionWarning: A column-vector y was passed when a 1d array was expected. Please change the shape of y to (n_samples, ), for example using ravel().\n",
            "  y = column_or_1d(y, warn=True)\n"
          ]
        },
        {
          "output_type": "stream",
          "name": "stdout",
          "text": [
            "Accuracy: 0.99\n",
            "ROC AUC: 0.98\n",
            "F1: 0.98\n"
          ]
        }
      ]
    },
    {
      "cell_type": "code",
      "source": [
        "# Обучаем модель метода опорных векторов на обучающих данных, выполняем прогноз и вычисляем метрики качества\n",
        "# Добавьте другие классификаторы по желанию\n",
        "\n",
        "# Реализация нейронной сети\n",
        "cls_model_nn = Sequential()\n",
        "cls_model_nn.add(Dense(64, input_dim=spam_X_train.shape[1], activation='relu'))\n",
        "cls_model_nn.add(Dense(32, activation='relu'))\n",
        "cls_model_nn.add(Dense(1, activation='sigmoid'))"
      ],
      "metadata": {
        "id": "O4Vmgr3sFv13"
      },
      "execution_count": null,
      "outputs": []
    },
    {
      "cell_type": "code",
      "source": [
        "cls_model_nn.compile(loss='binary_crossentropy', optimizer='adam', metrics=['accuracy'])\n",
        "cls_model_nn.fit(spam_X_train, spam_y_train, epochs=10, batch_size=32, verbose=1)"
      ],
      "metadata": {
        "colab": {
          "base_uri": "https://localhost:8080/"
        },
        "id": "1LaRrIAFFw3F",
        "outputId": "065ba49f-7c55-4013-a360-0324b279eed6"
      },
      "execution_count": null,
      "outputs": [
        {
          "output_type": "stream",
          "name": "stdout",
          "text": [
            "Epoch 1/10\n",
            "125/125 [==============================] - 1s 5ms/step - loss: 0.1975 - accuracy: 0.9358\n",
            "Epoch 2/10\n",
            "125/125 [==============================] - 1s 7ms/step - loss: 0.0557 - accuracy: 0.9895\n",
            "Epoch 3/10\n",
            "125/125 [==============================] - 1s 7ms/step - loss: 0.0163 - accuracy: 0.9965\n",
            "Epoch 4/10\n",
            "125/125 [==============================] - 1s 7ms/step - loss: 0.0072 - accuracy: 0.9995\n",
            "Epoch 5/10\n",
            "125/125 [==============================] - 1s 6ms/step - loss: 0.0041 - accuracy: 0.9998\n",
            "Epoch 6/10\n",
            "125/125 [==============================] - 1s 6ms/step - loss: 0.0027 - accuracy: 0.9998\n",
            "Epoch 7/10\n",
            "125/125 [==============================] - 1s 5ms/step - loss: 0.0020 - accuracy: 0.9998\n",
            "Epoch 8/10\n",
            "125/125 [==============================] - 1s 4ms/step - loss: 0.0015 - accuracy: 0.9998\n",
            "Epoch 9/10\n",
            "125/125 [==============================] - 1s 4ms/step - loss: 0.0012 - accuracy: 0.9998\n",
            "Epoch 10/10\n",
            "125/125 [==============================] - 1s 4ms/step - loss: 0.0011 - accuracy: 0.9998\n"
          ]
        },
        {
          "output_type": "execute_result",
          "data": {
            "text/plain": [
              "<keras.callbacks.History at 0x7f585dfe6920>"
            ]
          },
          "metadata": {},
          "execution_count": 20
        }
      ]
    },
    {
      "cell_type": "code",
      "source": [
        "y_pred_cls_nn = (cls_model_nn.predict(spam_X_test) > 0.5).astype(int)\n",
        "\n",
        "y_pred_cls_nn = y_pred_cls_nn.flatten()"
      ],
      "metadata": {
        "colab": {
          "base_uri": "https://localhost:8080/"
        },
        "id": "sGvoJwnRF3wF",
        "outputId": "fead08a0-2320-4ff7-8f6d-8a28f1760626"
      },
      "execution_count": null,
      "outputs": [
        {
          "output_type": "stream",
          "name": "stdout",
          "text": [
            "32/32 [==============================] - 1s 6ms/step\n"
          ]
        }
      ]
    },
    {
      "cell_type": "code",
      "source": [
        "cls_models_stats['NeuralNetwork'] = calc_metrics_cls(spam_y_test, y_pred_cls_nn)"
      ],
      "metadata": {
        "colab": {
          "base_uri": "https://localhost:8080/"
        },
        "id": "fJ3rUOm9F5xo",
        "outputId": "85807a14-2daa-4adb-fdde-fc71bd8505d5"
      },
      "execution_count": null,
      "outputs": [
        {
          "output_type": "stream",
          "name": "stdout",
          "text": [
            "Accuracy: 0.99\n",
            "ROC AUC: 0.99\n",
            "F1: 0.99\n"
          ]
        }
      ]
    },
    {
      "cell_type": "code",
      "source": [
        "model_cls_compare = pd.DataFrame(cls_models_stats).T\n",
        "model_cls_compare\n",
        "\n",
        "# Создаем таблицу для сравнения результатов метрик классификации разных моделей"
      ],
      "metadata": {
        "colab": {
          "base_uri": "https://localhost:8080/",
          "height": 143
        },
        "id": "008ocCwpF9Yd",
        "outputId": "069c804a-0f39-4339-8350-56681fac5bad"
      },
      "execution_count": null,
      "outputs": [
        {
          "output_type": "execute_result",
          "data": {
            "text/plain": [
              "               Accuracy  ROC AUC    F1\n",
              "DecisionTree       0.93     0.93  0.89\n",
              "SVM                0.99     0.98  0.98\n",
              "NeuralNetwork      0.99     0.99  0.99"
            ],
            "text/html": [
              "\n",
              "  <div id=\"df-74b637a6-5246-41e9-b333-6e7d63119b00\">\n",
              "    <div class=\"colab-df-container\">\n",
              "      <div>\n",
              "<style scoped>\n",
              "    .dataframe tbody tr th:only-of-type {\n",
              "        vertical-align: middle;\n",
              "    }\n",
              "\n",
              "    .dataframe tbody tr th {\n",
              "        vertical-align: top;\n",
              "    }\n",
              "\n",
              "    .dataframe thead th {\n",
              "        text-align: right;\n",
              "    }\n",
              "</style>\n",
              "<table border=\"1\" class=\"dataframe\">\n",
              "  <thead>\n",
              "    <tr style=\"text-align: right;\">\n",
              "      <th></th>\n",
              "      <th>Accuracy</th>\n",
              "      <th>ROC AUC</th>\n",
              "      <th>F1</th>\n",
              "    </tr>\n",
              "  </thead>\n",
              "  <tbody>\n",
              "    <tr>\n",
              "      <th>DecisionTree</th>\n",
              "      <td>0.93</td>\n",
              "      <td>0.93</td>\n",
              "      <td>0.89</td>\n",
              "    </tr>\n",
              "    <tr>\n",
              "      <th>SVM</th>\n",
              "      <td>0.99</td>\n",
              "      <td>0.98</td>\n",
              "      <td>0.98</td>\n",
              "    </tr>\n",
              "    <tr>\n",
              "      <th>NeuralNetwork</th>\n",
              "      <td>0.99</td>\n",
              "      <td>0.99</td>\n",
              "      <td>0.99</td>\n",
              "    </tr>\n",
              "  </tbody>\n",
              "</table>\n",
              "</div>\n",
              "      <button class=\"colab-df-convert\" onclick=\"convertToInteractive('df-74b637a6-5246-41e9-b333-6e7d63119b00')\"\n",
              "              title=\"Convert this dataframe to an interactive table.\"\n",
              "              style=\"display:none;\">\n",
              "        \n",
              "  <svg xmlns=\"http://www.w3.org/2000/svg\" height=\"24px\"viewBox=\"0 0 24 24\"\n",
              "       width=\"24px\">\n",
              "    <path d=\"M0 0h24v24H0V0z\" fill=\"none\"/>\n",
              "    <path d=\"M18.56 5.44l.94 2.06.94-2.06 2.06-.94-2.06-.94-.94-2.06-.94 2.06-2.06.94zm-11 1L8.5 8.5l.94-2.06 2.06-.94-2.06-.94L8.5 2.5l-.94 2.06-2.06.94zm10 10l.94 2.06.94-2.06 2.06-.94-2.06-.94-.94-2.06-.94 2.06-2.06.94z\"/><path d=\"M17.41 7.96l-1.37-1.37c-.4-.4-.92-.59-1.43-.59-.52 0-1.04.2-1.43.59L10.3 9.45l-7.72 7.72c-.78.78-.78 2.05 0 2.83L4 21.41c.39.39.9.59 1.41.59.51 0 1.02-.2 1.41-.59l7.78-7.78 2.81-2.81c.8-.78.8-2.07 0-2.86zM5.41 20L4 18.59l7.72-7.72 1.47 1.35L5.41 20z\"/>\n",
              "  </svg>\n",
              "      </button>\n",
              "      \n",
              "  <style>\n",
              "    .colab-df-container {\n",
              "      display:flex;\n",
              "      flex-wrap:wrap;\n",
              "      gap: 12px;\n",
              "    }\n",
              "\n",
              "    .colab-df-convert {\n",
              "      background-color: #E8F0FE;\n",
              "      border: none;\n",
              "      border-radius: 50%;\n",
              "      cursor: pointer;\n",
              "      display: none;\n",
              "      fill: #1967D2;\n",
              "      height: 32px;\n",
              "      padding: 0 0 0 0;\n",
              "      width: 32px;\n",
              "    }\n",
              "\n",
              "    .colab-df-convert:hover {\n",
              "      background-color: #E2EBFA;\n",
              "      box-shadow: 0px 1px 2px rgba(60, 64, 67, 0.3), 0px 1px 3px 1px rgba(60, 64, 67, 0.15);\n",
              "      fill: #174EA6;\n",
              "    }\n",
              "\n",
              "    [theme=dark] .colab-df-convert {\n",
              "      background-color: #3B4455;\n",
              "      fill: #D2E3FC;\n",
              "    }\n",
              "\n",
              "    [theme=dark] .colab-df-convert:hover {\n",
              "      background-color: #434B5C;\n",
              "      box-shadow: 0px 1px 3px 1px rgba(0, 0, 0, 0.15);\n",
              "      filter: drop-shadow(0px 1px 2px rgba(0, 0, 0, 0.3));\n",
              "      fill: #FFFFFF;\n",
              "    }\n",
              "  </style>\n",
              "\n",
              "      <script>\n",
              "        const buttonEl =\n",
              "          document.querySelector('#df-74b637a6-5246-41e9-b333-6e7d63119b00 button.colab-df-convert');\n",
              "        buttonEl.style.display =\n",
              "          google.colab.kernel.accessAllowed ? 'block' : 'none';\n",
              "\n",
              "        async function convertToInteractive(key) {\n",
              "          const element = document.querySelector('#df-74b637a6-5246-41e9-b333-6e7d63119b00');\n",
              "          const dataTable =\n",
              "            await google.colab.kernel.invokeFunction('convertToInteractive',\n",
              "                                                     [key], {});\n",
              "          if (!dataTable) return;\n",
              "\n",
              "          const docLinkHtml = 'Like what you see? Visit the ' +\n",
              "            '<a target=\"_blank\" href=https://colab.research.google.com/notebooks/data_table.ipynb>data table notebook</a>'\n",
              "            + ' to learn more about interactive tables.';\n",
              "          element.innerHTML = '';\n",
              "          dataTable['output_type'] = 'display_data';\n",
              "          await google.colab.output.renderOutput(dataTable, element);\n",
              "          const docLink = document.createElement('div');\n",
              "          docLink.innerHTML = docLinkHtml;\n",
              "          element.appendChild(docLink);\n",
              "        }\n",
              "      </script>\n",
              "    </div>\n",
              "  </div>\n",
              "  "
            ]
          },
          "metadata": {},
          "execution_count": 25
        }
      ]
    }
  ]
}