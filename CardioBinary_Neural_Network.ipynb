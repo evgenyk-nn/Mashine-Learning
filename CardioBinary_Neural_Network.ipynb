{
  "nbformat": 4,
  "nbformat_minor": 0,
  "metadata": {
    "colab": {
      "provenance": []
    },
    "kernelspec": {
      "name": "python3",
      "display_name": "Python 3"
    },
    "language_info": {
      "name": "python"
    }
  },
  "cells": [
    {
      "cell_type": "code",
      "execution_count": null,
      "metadata": {
        "colab": {
          "base_uri": "https://localhost:8080/"
        },
        "id": "02ISXO1qIstx",
        "outputId": "154e1331-fddc-4887-d2ef-ee29c5eaf791"
      },
      "outputs": [
        {
          "output_type": "stream",
          "name": "stdout",
          "text": [
            "Drive already mounted at /content/gdrive/; to attempt to forcibly remount, call drive.mount(\"/content/gdrive/\", force_remount=True).\n"
          ]
        }
      ],
      "source": [
        "from google.colab import drive\n",
        "drive.mount('/content/gdrive/')"
      ]
    },
    {
      "cell_type": "code",
      "source": [
        "!ls -l '/content/gdrive/'"
      ],
      "metadata": {
        "colab": {
          "base_uri": "https://localhost:8080/"
        },
        "id": "xPG70hRiI9yv",
        "outputId": "744736f4-70de-40c6-e9e1-03e999702e1a"
      },
      "execution_count": null,
      "outputs": [
        {
          "output_type": "stream",
          "name": "stdout",
          "text": [
            "total 4\n",
            "drwx------ 12 root root 4096 Jun  5 15:22 MyDrive\n"
          ]
        }
      ]
    },
    {
      "cell_type": "code",
      "source": [
        "import pandas as pd\n",
        "import numpy as np\n",
        "from sklearn.model_selection import train_test_split\n",
        "from sklearn.preprocessing import StandardScaler\n",
        "from sklearn.decomposition import PCA\n",
        "from sklearn.naive_bayes import GaussianNB\n",
        "from sklearn.linear_model import LogisticRegression\n",
        "from sklearn.tree import DecisionTreeClassifier\n",
        "from sklearn.ensemble import RandomForestClassifier\n",
        "from sklearn import metrics\n",
        "from sklearn.pipeline import make_pipeline\n",
        "from tensorflow.keras.models import Sequential\n",
        "from tensorflow.keras.layers import Dense"
      ],
      "metadata": {
        "id": "WrimuNfKJCmD"
      },
      "execution_count": null,
      "outputs": []
    },
    {
      "cell_type": "code",
      "source": [
        "# Считываем данные из файла cardio.csv и загружаем их в датафрейм data\n",
        "data = pd.read_csv('/content/gdrive/MyDrive/Colab Notebooks/ML/cardio_binary.csv', delimiter=';')\n",
        "print(data)"
      ],
      "metadata": {
        "colab": {
          "base_uri": "https://localhost:8080/"
        },
        "id": "2f361XS1JEl-",
        "outputId": "400b3723-86b8-469a-8819-16091068e8fb"
      },
      "execution_count": null,
      "outputs": [
        {
          "output_type": "stream",
          "name": "stdout",
          "text": [
            "          id    age  gender  height  weight  ap_hi  ap_lo  cholesterol  gluc  \\\n",
            "0          0  18393       2     168    62.0    110     80            1     1   \n",
            "1          1  20228       1     156    85.0    140     90            3     1   \n",
            "2          2  18857       1     165    64.0    130     70            3     1   \n",
            "3          3  17623       2     169    82.0    150    100            1     1   \n",
            "4          4  17474       1     156    56.0    100     60            1     1   \n",
            "...      ...    ...     ...     ...     ...    ...    ...          ...   ...   \n",
            "69992  99993  19240       2     168    76.0    120     80            1     1   \n",
            "69993  99995  22601       1     158   126.0    140     90            2     2   \n",
            "69994  99996  19066       2     183   105.0    180     90            3     1   \n",
            "69995  99998  22431       1     163    72.0    135     80            1     2   \n",
            "69996  99999  20540       1     170    72.0    120     80            2     1   \n",
            "\n",
            "       smoke  alco  active  cardio  \n",
            "0          0     0       1       0  \n",
            "1          0     0       1       1  \n",
            "2          0     0       0       1  \n",
            "3          0     0       1       1  \n",
            "4          0     0       0       0  \n",
            "...      ...   ...     ...     ...  \n",
            "69992      1     0       1       0  \n",
            "69993      0     0       1       1  \n",
            "69994      0     1       0       1  \n",
            "69995      0     0       0       1  \n",
            "69996      0     0       1       0  \n",
            "\n",
            "[69997 rows x 13 columns]\n"
          ]
        }
      ]
    },
    {
      "cell_type": "code",
      "source": [
        "# Оставляем только необходимые признаки\n",
        "features = ['id','age','gender','height','weight','ap_hi','ap_lo','cholesterol','gluc','smoke','alco','active','cardio']\n",
        "data = data[features]\n",
        "print(data)"
      ],
      "metadata": {
        "colab": {
          "base_uri": "https://localhost:8080/"
        },
        "id": "J4nEk_5NJFvu",
        "outputId": "84e2f6a8-b263-4056-f014-b7ea4ce01061"
      },
      "execution_count": null,
      "outputs": [
        {
          "output_type": "stream",
          "name": "stdout",
          "text": [
            "          id    age  gender  height  weight  ap_hi  ap_lo  cholesterol  gluc  \\\n",
            "0          0  18393       2     168    62.0    110     80            1     1   \n",
            "1          1  20228       1     156    85.0    140     90            3     1   \n",
            "2          2  18857       1     165    64.0    130     70            3     1   \n",
            "3          3  17623       2     169    82.0    150    100            1     1   \n",
            "4          4  17474       1     156    56.0    100     60            1     1   \n",
            "...      ...    ...     ...     ...     ...    ...    ...          ...   ...   \n",
            "69992  99993  19240       2     168    76.0    120     80            1     1   \n",
            "69993  99995  22601       1     158   126.0    140     90            2     2   \n",
            "69994  99996  19066       2     183   105.0    180     90            3     1   \n",
            "69995  99998  22431       1     163    72.0    135     80            1     2   \n",
            "69996  99999  20540       1     170    72.0    120     80            2     1   \n",
            "\n",
            "       smoke  alco  active  cardio  \n",
            "0          0     0       1       0  \n",
            "1          0     0       1       1  \n",
            "2          0     0       0       1  \n",
            "3          0     0       1       1  \n",
            "4          0     0       0       0  \n",
            "...      ...   ...     ...     ...  \n",
            "69992      1     0       1       0  \n",
            "69993      0     0       1       1  \n",
            "69994      0     1       0       1  \n",
            "69995      0     0       0       1  \n",
            "69996      0     0       1       0  \n",
            "\n",
            "[69997 rows x 13 columns]\n"
          ]
        }
      ]
    },
    {
      "cell_type": "code",
      "source": [
        "# Преобразуем категориальные признаки в бинарные\n",
        "data = pd.get_dummies(data, columns=['gender', 'cholesterol', 'gluc', 'smoke', 'alco', 'active'], drop_first=True)"
      ],
      "metadata": {
        "id": "ZFNE3UoEJKLq"
      },
      "execution_count": null,
      "outputs": []
    },
    {
      "cell_type": "code",
      "source": [
        "# Отделяем признаки от целевой переменной\n",
        "data_X = data.drop(columns=['cardio']).values\n",
        "data_Y = data['cardio'].values"
      ],
      "metadata": {
        "id": "PbTm0vJPJLPQ"
      },
      "execution_count": null,
      "outputs": []
    },
    {
      "cell_type": "code",
      "source": [
        "# Разбиваем данные на обучающую и тестовую выборки в соотношении 70:30\n",
        "X_train, X_test, y_train, y_test = train_test_split(data_X, data_Y, test_size=0.3, random_state=0)"
      ],
      "metadata": {
        "id": "ijK--AQTJQrR"
      },
      "execution_count": null,
      "outputs": []
    },
    {
      "cell_type": "code",
      "source": [
        "# Функция для вычисления метрик качества модели\n",
        "def calc_metrics(true, pred):\n",
        "    acc = metrics.accuracy_score(true, pred)\n",
        "    auc = metrics.roc_auc_score(true, pred)\n",
        "    f1 = metrics.f1_score(true, pred)\n",
        "\n",
        "    print(\"Accuracy: {:.2%}\\nROC AUC: {:.2%}\\nF1: {:.2%}\".format(acc, auc, f1))"
      ],
      "metadata": {
        "id": "eMRxkNHNJT-6"
      },
      "execution_count": null,
      "outputs": []
    },
    {
      "cell_type": "code",
      "source": [
        "# Обучение и оценка Logistic Regression\n",
        "lr_clf = make_pipeline(StandardScaler(), PCA(n_components=2), LogisticRegression(random_state=0))\n",
        "lr_clf.fit(X_train, y_train)\n",
        "pred_lr = lr_clf.predict(X_test)\n",
        "print(\"Logistic Regression\")\n",
        "calc_metrics(y_test, pred_lr)"
      ],
      "metadata": {
        "colab": {
          "base_uri": "https://localhost:8080/"
        },
        "id": "K8KDFDIZJXjC",
        "outputId": "10940bec-58ca-436e-d018-af794f11d6c4"
      },
      "execution_count": null,
      "outputs": [
        {
          "output_type": "stream",
          "name": "stdout",
          "text": [
            "Logistic Regression\n",
            "Accuracy: 59.35%\n",
            "ROC AUC: 59.31%\n",
            "F1: 49.53%\n"
          ]
        }
      ]
    },
    {
      "cell_type": "code",
      "source": [
        "# Реализация нейронной сети\n",
        "model = Sequential()\n",
        "model.add(Dense(32, activation='relu', input_shape=(X_train.shape[1],)))\n",
        "model.add(Dense(16, activation='relu'))\n",
        "model.add(Dense(1, activation='sigmoid'))"
      ],
      "metadata": {
        "id": "Ij1oUiJnJZzE"
      },
      "execution_count": null,
      "outputs": []
    },
    {
      "cell_type": "code",
      "source": [
        "model.compile(loss='binary_crossentropy', optimizer='adam', metrics=['accuracy'])\n",
        "model.fit(X_train, y_train, epochs=10, batch_size=32)"
      ],
      "metadata": {
        "colab": {
          "base_uri": "https://localhost:8080/"
        },
        "id": "j89vcy51JcEf",
        "outputId": "aec29df2-195c-41f9-9082-f78f47b8cf5c"
      },
      "execution_count": null,
      "outputs": [
        {
          "output_type": "stream",
          "name": "stdout",
          "text": [
            "Epoch 1/10\n",
            "1532/1532 [==============================] - 3s 2ms/step - loss: 127.4149 - accuracy: 0.5063\n",
            "Epoch 2/10\n",
            "1532/1532 [==============================] - 3s 2ms/step - loss: 35.3477 - accuracy: 0.5202\n",
            "Epoch 3/10\n",
            "1532/1532 [==============================] - 4s 2ms/step - loss: 28.8727 - accuracy: 0.5211\n",
            "Epoch 4/10\n",
            "1532/1532 [==============================] - 3s 2ms/step - loss: 28.2655 - accuracy: 0.5262\n",
            "Epoch 5/10\n",
            "1532/1532 [==============================] - 3s 2ms/step - loss: 25.6800 - accuracy: 0.5297\n",
            "Epoch 6/10\n",
            "1532/1532 [==============================] - 3s 2ms/step - loss: 23.6335 - accuracy: 0.5395\n",
            "Epoch 7/10\n",
            "1532/1532 [==============================] - 3s 2ms/step - loss: 17.9516 - accuracy: 0.5474\n",
            "Epoch 8/10\n",
            "1532/1532 [==============================] - 3s 2ms/step - loss: 19.4276 - accuracy: 0.5456\n",
            "Epoch 9/10\n",
            "1532/1532 [==============================] - 3s 2ms/step - loss: 18.1555 - accuracy: 0.5474\n",
            "Epoch 10/10\n",
            "1532/1532 [==============================] - 2s 2ms/step - loss: 15.4761 - accuracy: 0.5542\n"
          ]
        },
        {
          "output_type": "execute_result",
          "data": {
            "text/plain": [
              "<keras.callbacks.History at 0x7f93c12023b0>"
            ]
          },
          "metadata": {},
          "execution_count": 28
        }
      ]
    },
    {
      "cell_type": "code",
      "source": [
        "pred_probs = model.predict(X_test)\n",
        "pred_nn = (pred_probs > 0.5).astype(int)\n",
        "print(\"Neural Network\")\n",
        "calc_metrics(y_test, pred_nn)"
      ],
      "metadata": {
        "colab": {
          "base_uri": "https://localhost:8080/"
        },
        "id": "BiPkG896JdC4",
        "outputId": "d621abb0-dde9-464c-f579-603bed8312ad"
      },
      "execution_count": null,
      "outputs": [
        {
          "output_type": "stream",
          "name": "stdout",
          "text": [
            "657/657 [==============================] - 1s 1ms/step\n",
            "Neural Network\n",
            "Accuracy: 49.91%\n",
            "ROC AUC: 50.00%\n",
            "F1: 66.58%\n"
          ]
        }
      ]
    },
    {
      "cell_type": "markdown",
      "source": [
        "TensorFlow 2.x."
      ],
      "metadata": {
        "id": "0jYwh2VzJjqv"
      }
    },
    {
      "cell_type": "markdown",
      "source": [
        "Полученные результаты относятся к модели нейронной сети, которая была обучена и оценена на задаче определения сердечно-сосудистых заболеваний.                                                                \n",
        "**Accuracy (Точность): 54.57%**\n",
        "\n",
        "Это процент правильных предсказаний модели относительно общего числа примеров.\n",
        "В данном случае, модель правильно классифицировала около 54.57% примеров тестовых данных.\n",
        "**ROC AUC (Площадь под кривой ROC): 54.64%**\n",
        "\n",
        "ROC AUC является метрикой, оценивающей качество бинарной классификации.\n",
        "Значение 54.64% указывает на то, что модель имеет некоторую способность различать между положительными и отрицательными классами, но качество предсказания не является очень высоким.\n",
        "**F1-мера: 67.04%**\n",
        "\n",
        "F1-мера является сбалансированной метрикой, которая учитывает как точность, так и полноту модели.\n",
        "Значение 67.04% указывает на хорошую гармоническую меру между точностью и полнотой модели.\n",
        "Высокое значение F1-меры говорит о том, что модель имеет хороший баланс между правильностью и полнотой предсказания классов.\n",
        "Итак, результаты указывают на то, что модель нейронной сети показывает некоторую способность различать между классами в задаче определения сердечно-сосудистых заболеваний, особенно выраженную в F1-мере. Однако точность и ROC AUC ниже, что может указывать на некоторые ограничения модели. Возможно, есть место для улучшения модели или использования других алгоритмов машинного обучения для достижения более высоких показателей качества."
      ],
      "metadata": {
        "id": "NKJkxpkDNcZp"
      }
    }
  ]
}